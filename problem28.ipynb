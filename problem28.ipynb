{
 "cells": [
  {
   "cell_type": "code",
   "execution_count": null,
   "metadata": {},
   "outputs": [],
   "source": [
    "import numpy as np"
   ]
  },
  {
   "cell_type": "code",
   "execution_count": null,
   "metadata": {},
   "outputs": [],
   "source": [
    "size = 5\n",
    "numbers =  (n for n in range(1, 9999999))\n",
    "a = np.zeros((size, size))\n",
    "pos = [size//2, size//2]\n",
    "a[tuple(pos)] = next(numbers)\n",
    "\n",
    "\n",
    "for i in range(1,size//2+1):\n",
    "    pos[1]+=1\n",
    "    a[tuple(pos)] = next(numbers)\n",
    "    for j in range(i*2-1):\n",
    "        pos[0]+=1\n",
    "        print(i, pos, \"y-\")\n",
    "        a[tuple(pos)] = next(numbers)\n",
    "    for j in range(2*i):\n",
    "        pos[1]-=1\n",
    "        print(i, pos, \"x-\")\n",
    "        a[tuple(pos)] = next(numbers)\n",
    "    for j in range(2*i):\n",
    "        pos[0]-=1\n",
    "        print(i, pos, \"y+\")\n",
    "        a[tuple(pos)] = next(numbers)\n",
    "    for j in range(2*i):\n",
    "        pos[1]+=1\n",
    "        print(i, pos, \"x+\")\n",
    "        a[tuple(pos)] = next(numbers)\n",
    "\n",
    "print(a)\n",
    "int(sum(np.diag(a)+np.diag(np.rot90(a)))-1)"
   ]
  },
  {
   "cell_type": "code",
   "execution_count": null,
   "metadata": {},
   "outputs": [],
   "source": [
    "size = 1001\n",
    "numbers =  (n for n in range(1, 9999999))\n",
    "a = np.zeros((size, size))\n",
    "pos = [size//2, size//2]\n",
    "a[tuple(pos)] = next(numbers)\n",
    "\n",
    "\n",
    "for i in range(1,size//2+1):\n",
    "    pos[1]+=1\n",
    "    a[tuple(pos)] = next(numbers)\n",
    "    for j in range(i*2-1):\n",
    "        pos[0]+=1\n",
    "        a[tuple(pos)] = next(numbers)\n",
    "    for j in range(2*i):\n",
    "        pos[1]-=1\n",
    "        a[tuple(pos)] = next(numbers)\n",
    "    for j in range(2*i):\n",
    "        pos[0]-=1\n",
    "        a[tuple(pos)] = next(numbers)\n",
    "    for j in range(2*i):\n",
    "        pos[1]+=1\n",
    "        a[tuple(pos)] = next(numbers)\n",
    "\n",
    "int(sum(np.diag(a)+np.diag(np.rot90(a)))-1)"
   ]
  }
 ],
 "metadata": {
  "kernelspec": {
   "display_name": "Python 3",
   "language": "python",
   "name": "python3"
  },
  "language_info": {
   "codemirror_mode": {
    "name": "ipython",
    "version": 3
   },
   "file_extension": ".py",
   "mimetype": "text/x-python",
   "name": "python",
   "nbconvert_exporter": "python",
   "pygments_lexer": "ipython3",
   "version": "3.13.1"
  }
 },
 "nbformat": 4,
 "nbformat_minor": 2
}
